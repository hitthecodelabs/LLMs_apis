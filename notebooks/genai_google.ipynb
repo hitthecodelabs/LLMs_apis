{
 "cells": [
  {
   "cell_type": "code",
   "execution_count": 7,
   "id": "6adebe51-ac25-47fc-8e3b-c42ae23237e1",
   "metadata": {},
   "outputs": [],
   "source": [
    "!pip install -q -U google-generativeai"
   ]
  },
  {
   "cell_type": "code",
   "execution_count": 3,
   "id": "63030a7d-1308-4fe1-9c65-1cac95aae557",
   "metadata": {},
   "outputs": [
    {
     "name": "stdout",
     "output_type": "stream",
     "text": [
      "Defaulting to user installation because normal site-packages is not writeable\n",
      "Looking in links: /usr/share/pip-wheels\n",
      "Collecting python-dotenv\n",
      "  Downloading python_dotenv-1.0.1-py3-none-any.whl.metadata (23 kB)\n",
      "Downloading python_dotenv-1.0.1-py3-none-any.whl (19 kB)\n",
      "Installing collected packages: python-dotenv\n",
      "\u001b[33m  WARNING: The script dotenv is installed in '/home/f730f340-1e8a-4e4a-8ecf-cdf8fcfc0547/.local/bin' which is not on PATH.\n",
      "  Consider adding this directory to PATH or, if you prefer to suppress this warning, use --no-warn-script-location.\u001b[0m\u001b[33m\n",
      "\u001b[0mSuccessfully installed python-dotenv-1.0.1\n"
     ]
    }
   ],
   "source": [
    "!pip install python-dotenv"
   ]
  },
  {
   "cell_type": "code",
   "execution_count": 7,
   "id": "e7bb2c38-1ce2-4027-a575-43d1d302a701",
   "metadata": {},
   "outputs": [
    {
     "data": {
      "text/plain": [
       "True"
      ]
     },
     "execution_count": 7,
     "metadata": {},
     "output_type": "execute_result"
    }
   ],
   "source": [
    "import os\n",
    "import pathlib\n",
    "import textwrap\n",
    "\n",
    "import google.generativeai as genai\n",
    "\n",
    "from dotenv import load_dotenv\n",
    "\n",
    "from IPython.display import display\n",
    "from IPython.display import Markdown\n",
    "\n",
    "def to_markdown(text):\n",
    "    text = text.replace(\"•\", \"  *\")\n",
    "    return Markdown(textwrap.indent(text, \"> \", predicate=lambda _: True))\n",
    "\n",
    "load_dotenv()"
   ]
  },
  {
   "cell_type": "code",
   "execution_count": 10,
   "id": "026e43f1-9d0b-4114-a2ef-ce042c5ebd41",
   "metadata": {},
   "outputs": [],
   "source": [
    "rr = open(\".env\", \"w\")\n",
    "rr.write(\"GEMINI_API_KEY=key-bWRZPvc\")\n",
    "rr.close()"
   ]
  },
  {
   "cell_type": "code",
   "execution_count": 45,
   "id": "11263b2d-ce91-4759-8679-e538f94f7a60",
   "metadata": {},
   "outputs": [],
   "source": [
    "# Or use `os.getenv('GEMINI_API_KEY')` to fetch an environment variable.\n",
    "GOOGLE_API_KEY = os.getenv('GEMINI_API_KEY')"
   ]
  },
  {
   "cell_type": "code",
   "execution_count": 17,
   "id": "d7ccec7c-e0a9-4aed-b046-435597fc7664",
   "metadata": {},
   "outputs": [],
   "source": [
    "genai.configure(api_key=GOOGLE_API_KEY)"
   ]
  },
  {
   "cell_type": "code",
   "execution_count": 25,
   "id": "1556cd36-a9de-4a4e-bcf9-89363b7966bd",
   "metadata": {},
   "outputs": [
    {
     "name": "stdout",
     "output_type": "stream",
     "text": [
      "models/gemini-2.0-flash-thinking-exp-01-21\n",
      "models/gemini-2.0-flash-thinking-exp\n",
      "models/gemini-2.0-flash-thinking-exp-1219\n"
     ]
    }
   ],
   "source": [
    "for m in genai.list_models():\n",
    "    if (\"generateContent\" in m.supported_generation_methods\n",
    "       and \"flash-thinking\" in m.name):\n",
    "        print(m.name)"
   ]
  },
  {
   "cell_type": "code",
   "execution_count": 31,
   "id": "ce178ad8-1241-424b-952c-1738aa3b63d3",
   "metadata": {},
   "outputs": [],
   "source": [
    "model = genai.GenerativeModel(\"gemini-2.0-flash-thinking-exp-01-21\")"
   ]
  },
  {
   "cell_type": "code",
   "execution_count": 33,
   "id": "f7db2511-d905-4309-9024-1fbf2eb5eb34",
   "metadata": {},
   "outputs": [],
   "source": [
    "response = model.generate_content(\"What is the meaning of life?\")"
   ]
  },
  {
   "cell_type": "code",
   "execution_count": 34,
   "id": "f63d195b-2691-4a42-8bf9-16d21203bff3",
   "metadata": {},
   "outputs": [
    {
     "data": {
      "text/plain": [
       "response:\n",
       "GenerateContentResponse(\n",
       "    done=True,\n",
       "    iterator=None,\n",
       "    result=protos.GenerateContentResponse({\n",
       "      \"candidates\": [\n",
       "        {\n",
       "          \"content\": {\n",
       "            \"parts\": [\n",
       "              {\n",
       "                \"text\": \"Ah, the big one!  \\\"What is the meaning of life?\\\" is perhaps *the* most pondered question throughout human history.  And honestly, there's no single, universally agreed-upon answer.  Instead, it's a deeply personal and philosophical question with a multitude of perspectives.\\n\\nHere's a breakdown of why it's so complex and some of the common ways people approach finding meaning:\\n\\n**Why There's No Single Answer:**\\n\\n* **Subjectivity:** Meaning is inherently subjective. What gives *your* life meaning might be completely different from what gives meaning to someone else's.  It's tied to your values, experiences, and perspectives.\\n* **Evolution of Meaning:** What gave life meaning to our ancestors focused on survival, reproduction, and community.  As societies and individuals have evolved, so has the concept of meaning.\\n* **Philosophical Schools of Thought:**  Different philosophical schools offer vastly different perspectives on meaning, from nihilism (life is inherently meaningless) to existentialism (we create our own meaning) to religious perspectives (meaning is divinely ordained).\\n\\n**Common Approaches to Finding Meaning:**\\n\\nInstead of seeking *the* meaning, it's often more helpful to think about *creating* or *discovering* meaning in your own life. Here are some common avenues:\\n\\n* **Purpose and Contribution:**\\n    * **Making a difference:**  Contributing to something larger than yourself, whether it's your community, the environment, or a cause you believe in.\\n    * **Finding your \\\"calling\\\" or passion:**  Engaging in work or activities that feel meaningful and purposeful, where you feel you're using your talents and skills effectively.\\n    * **Leaving a legacy:**  Creating something that will outlast you and have a positive impact on future generations.\\n\\n* **Relationships and Connection:**\\n    * **Love and intimacy:**  Forming deep, meaningful connections with others \\u2013 family, friends, romantic partners.  Experiencing love, belonging, and support.\\n    * **Community and belonging:**  Feeling part of a group, sharing experiences, and contributing to a collective identity.\\n\\n* **Growth and Self-Discovery:**\\n    * **Learning and exploration:**  Continuously seeking knowledge, expanding your understanding of the world and yourself.\\n    * **Personal development:**  Striving to become a better version of yourself, overcoming challenges, and growing as an individual.\\n    * **Experiencing life fully:**  Embracing new experiences, stepping outside your comfort zone, and appreciating the richness and diversity of life.\\n\\n* **Values and Morality:**\\n    * **Living ethically:**  Acting in accordance with your values and principles, striving to be a good person and do what's right.\\n    * **Finding truth and understanding:**  Seeking deeper understanding of the universe, existence, and your place within it (through philosophy, spirituality, science, etc.).\\n\\n* **Experiences and Appreciation:**\\n    * **Finding joy and beauty:**  Appreciating the simple pleasures of life, finding beauty in nature, art, music, and human connection.\\n    * **Living in the present moment:**  Being mindful and present, savoring experiences, and appreciating the here and now.\\n\\n* **Spirituality and Faith:**\\n    * **Connecting with something larger than yourself:**  Finding meaning and purpose through religious faith, spirituality, or a sense of connection to the universe.\\n    * **Seeking transcendence:**  Looking for experiences that go beyond the ordinary, that offer a sense of awe, wonder, and connection to something greater.\\n\\n**Important Considerations:**\\n\\n* **Meaning is not static:** What gives your life meaning can change over time as you grow and evolve.\\n* **Meaning can be found in the ordinary:**  You don't need to achieve great fame or fortune to have a meaningful life. Meaning can be found in everyday acts of kindness, connection, and purpose.\\n* **It's okay to question and explore:**  The search for meaning is a lifelong journey. It's healthy to question, explore different perspectives, and refine your own understanding of what gives your life meaning.\\n* **Don't be afraid to define meaning for yourself:**  Ultimately, the meaning of *your* life is something you get to define.  There's no right or wrong answer, only what resonates with you.\\n\\n**In conclusion, there's no single, definitive answer to \\\"What is the meaning of life?\\\".  Instead, it's a personal and ongoing exploration.  It's about identifying what you value, what brings you joy, what makes you feel connected, and what gives your life purpose.  The meaning of life isn't something to be found, but rather something to be created and lived.**\\n\\nIt's a question worth pondering, and the journey of seeking your own answer can be incredibly enriching in itself.  What resonates with you from these different perspectives? What do *you* think gives life meaning?  That's where your own personal exploration begins.\"\n",
       "              }\n",
       "            ],\n",
       "            \"role\": \"model\"\n",
       "          },\n",
       "          \"finish_reason\": \"STOP\",\n",
       "          \"index\": 0\n",
       "        }\n",
       "      ],\n",
       "      \"usage_metadata\": {\n",
       "        \"prompt_token_count\": 8,\n",
       "        \"candidates_token_count\": 1047,\n",
       "        \"total_token_count\": 1055\n",
       "      },\n",
       "      \"model_version\": \"gemini-2.0-flash-thinking-exp-01-21\"\n",
       "    }),\n",
       ")"
      ]
     },
     "execution_count": 34,
     "metadata": {},
     "output_type": "execute_result"
    }
   ],
   "source": [
    "response"
   ]
  },
  {
   "cell_type": "code",
   "execution_count": 41,
   "id": "444198e0-c9fd-437b-9c20-790e6f95d932",
   "metadata": {},
   "outputs": [
    {
     "data": {
      "text/plain": [
       "'Ah, the big one!  \"What is the meaning of life?\" is perhaps *the* most pondered question throughout human history.  And honestly, there\\'s no single, universally agreed-upon answer.  Instead, it\\'s a deeply personal and philosophical question with a multitude of perspectives.\\n\\nHere\\'s a breakdown of why it\\'s so complex and some of the common ways people approach finding meaning:\\n\\n**Why There\\'s No Single Answer:**\\n\\n* **Subjectivity:** Meaning is inherently subjective. What gives *your* life meaning might be completely different from what gives meaning to someone else\\'s.  It\\'s tied to your values, experiences, and perspectives.\\n* **Evolution of Meaning:** What gave life meaning to our ancestors focused on survival, reproduction, and community.  As societies and individuals have evolved, so has the concept of meaning.\\n* **Philosophical Schools of Thought:**  Different philosophical schools offer vastly different perspectives on meaning, from nihilism (life is inherently meaningless) to existentialism (we create our own meaning) to religious perspectives (meaning is divinely ordained).\\n\\n**Common Approaches to Finding Meaning:**\\n\\nInstead of seeking *the* meaning, it\\'s often more helpful to think about *creating* or *discovering* meaning in your own life. Here are some common avenues:\\n\\n* **Purpose and Contribution:**\\n    * **Making a difference:**  Contributing to something larger than yourself, whether it\\'s your community, the environment, or a cause you believe in.\\n    * **Finding your \"calling\" or passion:**  Engaging in work or activities that feel meaningful and purposeful, where you feel you\\'re using your talents and skills effectively.\\n    * **Leaving a legacy:**  Creating something that will outlast you and have a positive impact on future generations.\\n\\n* **Relationships and Connection:**\\n    * **Love and intimacy:**  Forming deep, meaningful connections with others – family, friends, romantic partners.  Experiencing love, belonging, and support.\\n    * **Community and belonging:**  Feeling part of a group, sharing experiences, and contributing to a collective identity.\\n\\n* **Growth and Self-Discovery:**\\n    * **Learning and exploration:**  Continuously seeking knowledge, expanding your understanding of the world and yourself.\\n    * **Personal development:**  Striving to become a better version of yourself, overcoming challenges, and growing as an individual.\\n    * **Experiencing life fully:**  Embracing new experiences, stepping outside your comfort zone, and appreciating the richness and diversity of life.\\n\\n* **Values and Morality:**\\n    * **Living ethically:**  Acting in accordance with your values and principles, striving to be a good person and do what\\'s right.\\n    * **Finding truth and understanding:**  Seeking deeper understanding of the universe, existence, and your place within it (through philosophy, spirituality, science, etc.).\\n\\n* **Experiences and Appreciation:**\\n    * **Finding joy and beauty:**  Appreciating the simple pleasures of life, finding beauty in nature, art, music, and human connection.\\n    * **Living in the present moment:**  Being mindful and present, savoring experiences, and appreciating the here and now.\\n\\n* **Spirituality and Faith:**\\n    * **Connecting with something larger than yourself:**  Finding meaning and purpose through religious faith, spirituality, or a sense of connection to the universe.\\n    * **Seeking transcendence:**  Looking for experiences that go beyond the ordinary, that offer a sense of awe, wonder, and connection to something greater.\\n\\n**Important Considerations:**\\n\\n* **Meaning is not static:** What gives your life meaning can change over time as you grow and evolve.\\n* **Meaning can be found in the ordinary:**  You don\\'t need to achieve great fame or fortune to have a meaningful life. Meaning can be found in everyday acts of kindness, connection, and purpose.\\n* **It\\'s okay to question and explore:**  The search for meaning is a lifelong journey. It\\'s healthy to question, explore different perspectives, and refine your own understanding of what gives your life meaning.\\n* **Don\\'t be afraid to define meaning for yourself:**  Ultimately, the meaning of *your* life is something you get to define.  There\\'s no right or wrong answer, only what resonates with you.\\n\\n**In conclusion, there\\'s no single, definitive answer to \"What is the meaning of life?\".  Instead, it\\'s a personal and ongoing exploration.  It\\'s about identifying what you value, what brings you joy, what makes you feel connected, and what gives your life purpose.  The meaning of life isn\\'t something to be found, but rather something to be created and lived.**\\n\\nIt\\'s a question worth pondering, and the journey of seeking your own answer can be incredibly enriching in itself.  What resonates with you from these different perspectives? What do *you* think gives life meaning?  That\\'s where your own personal exploration begins.'"
      ]
     },
     "execution_count": 41,
     "metadata": {},
     "output_type": "execute_result"
    }
   ],
   "source": [
    "response.text"
   ]
  },
  {
   "cell_type": "code",
   "execution_count": 43,
   "id": "5673d7b1-1a84-41c1-be97-6e6400b67b4e",
   "metadata": {},
   "outputs": [
    {
     "data": {
      "text/markdown": [
       "> Ah, the big one!  \"What is the meaning of life?\" is perhaps *the* most pondered question throughout human history.  And honestly, there's no single, universally agreed-upon answer.  Instead, it's a deeply personal and philosophical question with a multitude of perspectives.\n",
       "> \n",
       "> Here's a breakdown of why it's so complex and some of the common ways people approach finding meaning:\n",
       "> \n",
       "> **Why There's No Single Answer:**\n",
       "> \n",
       "> * **Subjectivity:** Meaning is inherently subjective. What gives *your* life meaning might be completely different from what gives meaning to someone else's.  It's tied to your values, experiences, and perspectives.\n",
       "> * **Evolution of Meaning:** What gave life meaning to our ancestors focused on survival, reproduction, and community.  As societies and individuals have evolved, so has the concept of meaning.\n",
       "> * **Philosophical Schools of Thought:**  Different philosophical schools offer vastly different perspectives on meaning, from nihilism (life is inherently meaningless) to existentialism (we create our own meaning) to religious perspectives (meaning is divinely ordained).\n",
       "> \n",
       "> **Common Approaches to Finding Meaning:**\n",
       "> \n",
       "> Instead of seeking *the* meaning, it's often more helpful to think about *creating* or *discovering* meaning in your own life. Here are some common avenues:\n",
       "> \n",
       "> * **Purpose and Contribution:**\n",
       ">     * **Making a difference:**  Contributing to something larger than yourself, whether it's your community, the environment, or a cause you believe in.\n",
       ">     * **Finding your \"calling\" or passion:**  Engaging in work or activities that feel meaningful and purposeful, where you feel you're using your talents and skills effectively.\n",
       ">     * **Leaving a legacy:**  Creating something that will outlast you and have a positive impact on future generations.\n",
       "> \n",
       "> * **Relationships and Connection:**\n",
       ">     * **Love and intimacy:**  Forming deep, meaningful connections with others – family, friends, romantic partners.  Experiencing love, belonging, and support.\n",
       ">     * **Community and belonging:**  Feeling part of a group, sharing experiences, and contributing to a collective identity.\n",
       "> \n",
       "> * **Growth and Self-Discovery:**\n",
       ">     * **Learning and exploration:**  Continuously seeking knowledge, expanding your understanding of the world and yourself.\n",
       ">     * **Personal development:**  Striving to become a better version of yourself, overcoming challenges, and growing as an individual.\n",
       ">     * **Experiencing life fully:**  Embracing new experiences, stepping outside your comfort zone, and appreciating the richness and diversity of life.\n",
       "> \n",
       "> * **Values and Morality:**\n",
       ">     * **Living ethically:**  Acting in accordance with your values and principles, striving to be a good person and do what's right.\n",
       ">     * **Finding truth and understanding:**  Seeking deeper understanding of the universe, existence, and your place within it (through philosophy, spirituality, science, etc.).\n",
       "> \n",
       "> * **Experiences and Appreciation:**\n",
       ">     * **Finding joy and beauty:**  Appreciating the simple pleasures of life, finding beauty in nature, art, music, and human connection.\n",
       ">     * **Living in the present moment:**  Being mindful and present, savoring experiences, and appreciating the here and now.\n",
       "> \n",
       "> * **Spirituality and Faith:**\n",
       ">     * **Connecting with something larger than yourself:**  Finding meaning and purpose through religious faith, spirituality, or a sense of connection to the universe.\n",
       ">     * **Seeking transcendence:**  Looking for experiences that go beyond the ordinary, that offer a sense of awe, wonder, and connection to something greater.\n",
       "> \n",
       "> **Important Considerations:**\n",
       "> \n",
       "> * **Meaning is not static:** What gives your life meaning can change over time as you grow and evolve.\n",
       "> * **Meaning can be found in the ordinary:**  You don't need to achieve great fame or fortune to have a meaningful life. Meaning can be found in everyday acts of kindness, connection, and purpose.\n",
       "> * **It's okay to question and explore:**  The search for meaning is a lifelong journey. It's healthy to question, explore different perspectives, and refine your own understanding of what gives your life meaning.\n",
       "> * **Don't be afraid to define meaning for yourself:**  Ultimately, the meaning of *your* life is something you get to define.  There's no right or wrong answer, only what resonates with you.\n",
       "> \n",
       "> **In conclusion, there's no single, definitive answer to \"What is the meaning of life?\".  Instead, it's a personal and ongoing exploration.  It's about identifying what you value, what brings you joy, what makes you feel connected, and what gives your life purpose.  The meaning of life isn't something to be found, but rather something to be created and lived.**\n",
       "> \n",
       "> It's a question worth pondering, and the journey of seeking your own answer can be incredibly enriching in itself.  What resonates with you from these different perspectives? What do *you* think gives life meaning?  That's where your own personal exploration begins."
      ],
      "text/plain": [
       "<IPython.core.display.Markdown object>"
      ]
     },
     "execution_count": 43,
     "metadata": {},
     "output_type": "execute_result"
    }
   ],
   "source": [
    "to_markdown(response.text)"
   ]
  },
  {
   "cell_type": "code",
   "execution_count": null,
   "id": "9d489772-dbc9-4d6e-a09f-c857991bc72e",
   "metadata": {},
   "outputs": [],
   "source": []
  }
 ],
 "metadata": {
  "kernelspec": {
   "display_name": "anaconda-2024.02-py310",
   "language": "python",
   "name": "conda-env-anaconda-2024.02-py310-py"
  },
  "language_info": {
   "codemirror_mode": {
    "name": "ipython",
    "version": 3
   },
   "file_extension": ".py",
   "mimetype": "text/x-python",
   "name": "python",
   "nbconvert_exporter": "python",
   "pygments_lexer": "ipython3",
   "version": "3.10.14"
  }
 },
 "nbformat": 4,
 "nbformat_minor": 5
}
